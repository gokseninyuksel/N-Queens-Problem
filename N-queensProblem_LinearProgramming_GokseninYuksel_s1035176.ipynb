{
 "cells": [
  {
   "cell_type": "code",
   "execution_count": 11,
   "metadata": {},
   "outputs": [],
   "source": [
    "from pulp import *\n",
    "import numpy as np\n",
    "import chess\n",
    "from chess import svg\n",
    "import io\n",
    "\n",
    "def print_chess(chessBoard):\n",
    "    if(len(chessBoard[0]) == 8): #If chessboard is 8x8, the fen representation is used for creating high quality chess board.The output file is in SVG format.\n",
    "\n",
    "        for a in range (0,len(chessBoard)):\n",
    "            for b in range(0,len(chessBoard[a])):\n",
    "                if chessBoard[a][b] == 0.0:\n",
    "                    chessBoard[a][b] = 'en'\n",
    "                else:\n",
    "                    chessBoard[a][b] = 'bq'\n",
    "        svgs = board_to_fen(chessBoard)\n",
    "        board = chess.Board(svgs)\n",
    "        boardsvg = chess.svg.board(board = board)\n",
    "        filetowriteto = open(\"chess.SVG\", \"w\")\n",
    "        filetowriteto.write(boardsvg)\n",
    "        filetowriteto.close()\n",
    "    else: #If chessboard is not 8x8, then board is printed using print statement. \".\" indicates empty square and \"Q\" indicate queen.\n",
    "        for a in range(0,len(chessBoard)):\n",
    "            for b in range(0,len(chessBoard[a])):\n",
    "                if chessBoard[a][b] == 0.0:\n",
    "                    print(\".\",end = \" \")\n",
    "                else:\n",
    "                    print(\"Q\", end = \" \")\n",
    "            print(\"\\n\")\n",
    "\n",
    "    "
   ]
  },
  {
   "cell_type": "code",
   "execution_count": 12,
   "metadata": {},
   "outputs": [],
   "source": [
    " def board_to_fen(board):\n",
    "        '''\n",
    "        This function takes 8x8 array as an input and returns fen representation. \n",
    "        If array does not corresponds to chess representation\n",
    "        function fails.\n",
    "        \n",
    "        Usage board_to_fen(chess_board)\n",
    "        return string\n",
    "        '''\n",
    "        \n",
    "        # Use StringIO to build string more efficiently than concatenating\n",
    "        with io.StringIO() as s:\n",
    "            for row in board:\n",
    "                empty = 0\n",
    "                for cell in row:\n",
    "                    c = cell[0]\n",
    "                    if c in ('w', 'b'):\n",
    "                        if empty > 0:\n",
    "                            s.write(str(empty))\n",
    "                            empty = 0\n",
    "                        s.write(cell[1].upper() if c == 'w' else cell[1].lower())\n",
    "                    else:\n",
    "                        empty += 1\n",
    "                if empty > 0:\n",
    "                    s.write(str(empty))\n",
    "                s.write('/')\n",
    "            # Move one position back to overwrite last '/'\n",
    "            s.seek(s.tell() - 1)\n",
    "            # If you do not have the additional information choose what to put\n",
    "            s.write(' w KQkq - 0 1')\n",
    "            return s.getvalue()"
   ]
  },
  {
   "cell_type": "code",
   "execution_count": 16,
   "metadata": {},
   "outputs": [],
   "source": [
    "def nQueensProblem(n):\n",
    "    '''\n",
    "    This function uses 0-1 integer linear programming algorithm to solve n-queens problem. If solution is optimal\n",
    "    it is printed out. There is a special case for n = 8. Rather than printing out the solution, SVG file of chessboard is cre-\n",
    "    ated in main directory.\n",
    "    \n",
    "    Linear programming is implemented using Pulp package in python.\n",
    "    \n",
    "    Usage nQueensProblem(N)\n",
    "    \n",
    "    returns \n",
    "    if n = 8:\n",
    "        SVG file corresponding to chessboard array.\n",
    "    else:\n",
    "        printing out the chessboard array.\n",
    "    '''\n",
    "    N = n\n",
    "    seq = [a for a in range(1,N+1)]\n",
    "    columns = seq\n",
    "    rows = seq\n",
    "    prob = LpProblem(\"8-Queens Problem\",LpMinimize)\n",
    "    choices = LpVariable.dicts(\"Choices\",(columns,rows),0,1,LpInteger)\n",
    "    prob += 13\n",
    "    for r in rows:\n",
    "        #Every row has to contain 1 queen.\n",
    "        a = lpSum([choices[r][c] for c in columns]) == 1 \n",
    "        prob += a\n",
    "        #right to left Diagonal for left-most column can contain\n",
    "        # not more than 1 queen.\n",
    "        a = lpSum([choices[r+m][1+m] for m in range(1,4-r+1)]) <= 1\n",
    "        prob+= choices[r][1] + a\n",
    "        #left to right Diagonal for right-most column can contain\n",
    "        # not more than 1 queen.\n",
    "        a = lpSum([choices[r+m][N-m] for m in range(1,N-r+1)]) <= 1\n",
    "        prob+= choices[r][N] + a\n",
    "    for c in columns:\n",
    "        #Every column has to contain 1 queen.\n",
    "        a = lpSum([choices[r][c] for r in rows]) == 1 \n",
    "        prob += a\n",
    "        #right to left Diagonal for the top column can contain\n",
    "        # not more than 1 queen.\n",
    "        a = lpSum([choices[1+m][c-m] for m in range(1,c)]) <= 1\n",
    "        prob+= choices[1][c] + a\n",
    "        #Left to right Diagonal for the top column can contain\n",
    "        # not more than 1 queen.\n",
    "        a = lpSum([choices[1+m][c+m] for m in range(1,4-c+1)]) <= 1\n",
    "        prob+= choices[1][c] + a\n",
    " \n",
    "    prob.solve()\n",
    "    print (\"Status:\",LpStatus[prob.status])\n",
    "    import chess\n",
    "    chessBoard = np.zeros((N,N))\n",
    "    #Setting the values of chessboard from the solution.\n",
    "    for c in columns:\n",
    "        for r in rows:\n",
    "            if value(choices[c][r]) == 1:\n",
    "                chessBoard[c-1][r-1] = 1 \n",
    "    chessBoard = chessBoard.tolist()\n",
    "    print_chess(chessBoard)\n",
    "\n",
    "        "
   ]
  },
  {
   "cell_type": "code",
   "execution_count": 18,
   "metadata": {},
   "outputs": [
    {
     "name": "stdout",
     "output_type": "stream",
     "text": [
      "Status: Optimal\n",
      ". Q . . \n",
      "\n",
      ". . . Q \n",
      "\n",
      "Q . . . \n",
      "\n",
      ". . Q . \n",
      "\n"
     ]
    },
    {
     "name": "stderr",
     "output_type": "stream",
     "text": [
      "C:\\Users\\akbab\\Anaconda3\\lib\\site-packages\\pulp\\pulp.py:1198: UserWarning: Spaces are not permitted in the name. Converted to '_'\n",
      "  warnings.warn(\"Spaces are not permitted in the name. Converted to '_'\")\n"
     ]
    }
   ],
   "source": [
    "nQueensProblem(4)"
   ]
  }
 ],
 "metadata": {
  "kernelspec": {
   "display_name": "Python 3",
   "language": "python",
   "name": "python3"
  },
  "language_info": {
   "codemirror_mode": {
    "name": "ipython",
    "version": 3
   },
   "file_extension": ".py",
   "mimetype": "text/x-python",
   "name": "python",
   "nbconvert_exporter": "python",
   "pygments_lexer": "ipython3",
   "version": "3.7.4"
  },
  "varInspector": {
   "cols": {
    "lenName": 16,
    "lenType": 16,
    "lenVar": 40
   },
   "kernels_config": {
    "python": {
     "delete_cmd_postfix": "",
     "delete_cmd_prefix": "del ",
     "library": "var_list.py",
     "varRefreshCmd": "print(var_dic_list())"
    },
    "r": {
     "delete_cmd_postfix": ") ",
     "delete_cmd_prefix": "rm(",
     "library": "var_list.r",
     "varRefreshCmd": "cat(var_dic_list()) "
    }
   },
   "types_to_exclude": [
    "module",
    "function",
    "builtin_function_or_method",
    "instance",
    "_Feature"
   ],
   "window_display": false
  }
 },
 "nbformat": 4,
 "nbformat_minor": 2
}
